{
 "cells": [
  {
   "cell_type": "code",
   "execution_count": 3,
   "metadata": {},
   "outputs": [],
   "source": [
    "import os\n",
    "\n",
    "\n",
    "def print_folder_structure(startpath):\n",
    "    for root, dirs, files in os.walk(startpath):\n",
    "        # Filter out hidden directories and files\n",
    "        dirs[:] = [d for d in dirs if not d.startswith(\".\")]\n",
    "        files = [f for f in files if not f.startswith(\".\")]\n",
    "\n",
    "        level = root.replace(startpath, \"\").count(os.sep)\n",
    "        indent = \" \" * 4 * level\n",
    "        print(f\"{indent}{os.path.basename(root)}/\")\n",
    "        subindent = \" \" * 4 * (level + 1)\n",
    "        for file in files:\n",
    "            print(f\"{subindent}{file}\")"
   ]
  },
  {
   "cell_type": "code",
   "execution_count": 4,
   "metadata": {},
   "outputs": [
    {
     "name": "stdout",
     "output_type": "stream",
     "text": [
      "specialization_project/\n",
      "    analysis.ipynb\n",
      "    random_testing.ipynb\n",
      "    README.md\n",
      "    __init__.py\n",
      "    data/\n",
      "        processed/\n",
      "        raw/\n",
      "    src/\n",
      "        battery_storage.py\n",
      "        model.py\n",
      "        __init__.py\n",
      "        __pycache__/\n",
      "            battery_storage.cpython-312.pyc\n",
      "            model.cpython-312.pyc\n",
      "            __init__.cpython-312.pyc\n",
      "    utils/\n"
     ]
    }
   ],
   "source": [
    "# Get the current working directory\n",
    "current_folder = os.getcwd()\n",
    "\n",
    "# Call the function to print the folder structure\n",
    "print_folder_structure(current_folder)"
   ]
  },
  {
   "cell_type": "code",
   "execution_count": null,
   "metadata": {},
   "outputs": [],
   "source": []
  },
  {
   "cell_type": "code",
   "execution_count": null,
   "metadata": {},
   "outputs": [],
   "source": []
  }
 ],
 "metadata": {
  "kernelspec": {
   "display_name": "project",
   "language": "python",
   "name": "python3"
  },
  "language_info": {
   "codemirror_mode": {
    "name": "ipython",
    "version": 3
   },
   "file_extension": ".py",
   "mimetype": "text/x-python",
   "name": "python",
   "nbconvert_exporter": "python",
   "pygments_lexer": "ipython3",
   "version": "3.12.6"
  }
 },
 "nbformat": 4,
 "nbformat_minor": 2
}
