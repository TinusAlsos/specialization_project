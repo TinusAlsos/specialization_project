{
 "cells": [
  {
   "cell_type": "markdown",
   "metadata": {},
   "source": [
    "# Direct Current Optimal Power Flow (no batteries)"
   ]
  },
  {
   "cell_type": "markdown",
   "metadata": {},
   "source": [
    "### Limitations\n",
    "\n",
    "- Fixed set of locations (and candidate locations)\n",
    "- One representative year\n",
    "- Capacities set\n",
    "- No uncertainty\n",
    "- No ramping constraints\n",
    "- No Kirchhoff's laws"
   ]
  },
  {
   "cell_type": "markdown",
   "metadata": {},
   "source": [
    "### Indexes and index sets\n",
    "\n",
    "* $n \\in N$: Set of nodes\n",
    "* $i \\in G$: Set of generators. Each generator is associated with a node $n$.\n",
    "* $b \\in B$: Set of branches\n",
    "* $b \\in B_n^{in}$: Set of branches coming into node $n$\n",
    "* $b \\in B_n^{out}$: Set of branches going out of node $n$\n",
    "* $t \\in T$: Set of time periods\n",
    "* $i \\in G_n$: Set of generators at node $n$\n",
    "\n",
    "### Parameters\n",
    "\n",
    "* $P_{i}^{\\min}$: Minimum power output of generator $i$ (MW)\n",
    "* $P_{i}^{\\max}$: Maximum power output of generator $i$ (MW)\n",
    "* ${VOLL}$: Value of lost load (cost of load shedding) ($/MWh)\n",
    "* $MC_{i}$: Marginal cost of generator $i$ (\\$/MWh)\n",
    "* $CO2_{i}$ Cost of CO2 emissions of generator $i$ (\\$/MWh)\n",
    "* $E_{i}$: CO2 emissions of generator $i$ (ton/MWh) \n",
    "* $E_{limit}$: CO2 emissions limit (ton)\n",
    "* $D_{n,t}$: Demand at node $n$ and time $t$ (MW)\n",
    "* $l_b$: loss factor of branch $b$ (given, but in reality some function of distance, transmsission line type, etc.)\n",
    "* $P_{b}^{\\max}$: Maximum power flow on branch $b$ (MW)\n",
    "\n",
    "### Decision variables\n",
    "* $g_{i,t}$: Power generation dispatch of generator $i$ at time $t$ (MW)\n",
    "* $f_{b,t}$: Power flow on branch $b$ at time $t$ (MW)\n",
    "* $s_{n,t}$: Load shedding at node $n$ at time $t$ (MW)\n",
    "* $c_{n,t}$: Power curtailment at node $n$ at time $t$ (MW)"
   ]
  },
  {
   "cell_type": "markdown",
   "metadata": {},
   "source": [
    "### Optimization Model\n",
    "\n",
    "### Objective function, minimize cost of generation\n",
    "\n",
    "**Minimize:**\n",
    "$$ \\sum_{i \\in G} \\sum_{t \\in T} (MC_i + CO2_i) g_{i,t} + \\sum_{n \\in N} \\sum_{t \\in T} s_{n,t} VOLL + \\sum_{n \\in N} \\sum_{t \\in T} c_{n,t} CC$$\n",
    "\n",
    "1. **Power balance: production + inflow - curtailment = outflow + demand - shedding**\n",
    "\n",
    "*A.K.A. Market clearing or energy balance*\n",
    "\n",
    "$$ \\sum_i (g_{i,t} - c_{i,t}) + \\sum_{b \\in B_n^{in}} f_{b,t}(1-l_b) - \\sum_{b \\in B_n^{out}} f_{b,t} + s_{n,t} = D_{n,t} \\quad \\forall n \\in N, \\forall t \\in T $$\n",
    "\n",
    "2. **We can't shed more load than the demand**\n",
    "\n",
    "$$ s_{n,t} \\leq D_{n,t} \\quad \\forall n \\in N, \\forall t \\in T $$\n",
    "\n",
    "3. **Generators' power output limits**\n",
    "\n",
    "$$ P_{i}^{\\min} \\leq g_{i,t} \\leq P_{i}^{\\max} \\quad \\forall i \\in G, \\forall t \\in T $$\n",
    "\n",
    "4. **Branch power flow limits**\n",
    "\n",
    "$$ -P_{b}^{\\max} \\leq f_{b,t} \\leq P_{b}^{\\max} \\quad \\forall b \\in B, \\forall t \\in T $$\n",
    "\n",
    "5. **Emissions restrictions**\n",
    "\n",
    "$$ \\sum_i \\sum_t E_i g_{i,t} \\leq E_{limit} $$\n",
    "\n",
    "6. **Variable definitions**\n",
    "\n",
    "$$ g_{i,t} \\geq 0, \\quad f_{b,t} \\geq 0, \\quad s_{n,t} \\geq 0, \\quad c_{n,t} \\geq 0 \\quad \\forall i \\in G, \\forall b \\in B, \\forall n \\in N, \\forall t \\in T $$"
   ]
  }
 ],
 "metadata": {
  "kernelspec": {
   "display_name": "project",
   "language": "python",
   "name": "python3"
  },
  "language_info": {
   "codemirror_mode": {
    "name": "ipython",
    "version": 3
   },
   "file_extension": ".py",
   "mimetype": "text/x-python",
   "name": "python",
   "nbconvert_exporter": "python",
   "pygments_lexer": "ipython3",
   "version": "3.12.6"
  }
 },
 "nbformat": 4,
 "nbformat_minor": 2
}
