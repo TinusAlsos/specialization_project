{
 "cells": [
  {
   "cell_type": "markdown",
   "metadata": {},
   "source": [
    "### Indexes and index sets\n",
    "\n",
    "* $n \\in N$: Set of nodes\n",
    "* $i \\in G$: Set of generators. Each generator is associated with a node $n$.\n",
    "* $b \\in B$: Set of branches\n",
    "* $b \\in B_n^{in}$: Set of branches coming into node $n$\n",
    "* $b \\in B_n^{out}$: Set of branches going out of node $n$\n",
    "* $t \\in T$: Set of time periods\n",
    "* $i \\in G_n$: Set of generators at node $n$\n",
    "\n",
    "### Parameters\n",
    "\n",
    "* $P_{i}^{\\min}$: Minimum power output of generator $i$ (MW)\n",
    "* $P_{i}^{\\max}$: Maximum power output of generator $i$ (MW)\n",
    "* ${VOLL}$: Value of lost load (cost of load shedding) ($/MWh)\n",
    "* $MC_{i}$: Marginal cost of generator $i$ (\\$/MWh)\n",
    "* $CO2_{i}$ Cost of CO2 emissions of generator $i$ (\\$/MWh)\n",
    "* $E_{i}$: CO2 emissions of generator $i$ (ton/MWh) \n",
    "* $E_{limit}$: CO2 emissions limit (ton)\n",
    "* $D_{n,t}$: Demand at node $n$ and time $t$ (MW)\n",
    "* $l_b$: loss factor of branch $b$ (given, but in reality some function of distance, transmsission line type, etc.)\n",
    "* $P_{b}^{\\max}$: Maximum power flow on branch $b$ (MW)\n",
    "\n",
    "### Decision variables\n",
    "* $g_{i,t}$: Power generation dispatch of generator $i$ at time $t$ (MW)\n",
    "* $f_{b,t}$: Power flow on branch $b$ at time $t$ (MW)\n",
    "* $s_{n,t}$: Load shedding at node $n$ at time $t$ (MW)\n",
    "* $c_{n,t}$: Power curtailment at node $n$ at time $t$ (MW)"
   ]
  },
  {
   "cell_type": "markdown",
   "metadata": {},
   "source": [
    "### Optimization Model\n",
    "\n",
    "### Objective function, minimize cost of generation\n",
    "\n",
    "**Minimize:**\n",
    "$$ \\sum_{i \\in G} \\sum_{t \\in T} (MC_i + CO2_i) P_{i,t} + \\sum_{n \\in N} \\sum_{t \\in T} s_{n,t} VOLL $$\n",
    "\n",
    "1. **Power balance: production + inflow - curtailment = outflow + demand - shedding**\n",
    "\n",
    "*A.K.A. Market clearing or energy balance*\n",
    "\n",
    "$$ \\sum_i (g_{i,t} - c_{i,t}) + \\sum_{b \\in B_n^{in}} f_{b,t}(1-l_b) - \\sum_{b \\in B_n^{out}} f_{b,t} + s_{n,t} = D_{n,t} \\quad \\forall n \\in N, \\forall t \\in T $$\n",
    "\n",
    "2. **We can't shed more load than the demand**\n",
    "\n",
    "$$ s_{n,t} \\leq D_{n,t} \\quad \\forall n \\in N, \\forall t \\in T $$\n",
    "\n",
    "3. **Generators' power output limits**\n",
    "\n",
    "$$ P_{i}^{\\min} \\leq g_{i,t} \\leq P_{i}^{\\max} \\quad \\forall i \\in G, \\forall t \\in T $$\n",
    "\n",
    "4. **Branch power flow limits**\n",
    "\n",
    "$$ -P_{b}^{\\max} \\leq f_{b,t} \\leq P_{b}^{\\max} \\quad \\forall b \\in B, \\forall t \\in T $$\n",
    "\n",
    "5. **Emissions restrictions**\n",
    "\n",
    "$$ \\sum_i \\sum_t E_i g_{i,t} \\leq E_{limit} $$\n",
    "\n",
    "6. **Variable definitions**\n",
    "\n",
    "$$ g_{i,t} \\geq 0, \\quad f_{b,t} \\geq 0, \\quad s_{n,t} \\geq 0, \\quad c_{n,t} \\geq 0 \\quad \\forall i \\in G, \\forall b \\in B, \\forall n \\in N, \\forall t \\in T $$"
   ]
  },
  {
   "cell_type": "markdown",
   "metadata": {},
   "source": [
    "# Basic model implementation"
   ]
  },
  {
   "cell_type": "code",
   "execution_count": 23,
   "metadata": {},
   "outputs": [],
   "source": [
    "import pandas as pd\n",
    "import gurobipy as gp\n",
    "from gurobipy import GRB\n",
    "import matplotlib.pyplot as plt\n",
    "import os\n",
    "import numpy as np\n",
    "np.random.seed(0)"
   ]
  },
  {
   "cell_type": "code",
   "execution_count": 24,
   "metadata": {},
   "outputs": [],
   "source": [
    "DATA_FOLDER = os.path.join(os.path.dirname(os.getcwd()), 'data')"
   ]
  },
  {
   "cell_type": "code",
   "execution_count": 29,
   "metadata": {},
   "outputs": [],
   "source": [
    "branches = pd.read_csv(os.path.join(DATA_FOLDER, 'branches.csv'))\n",
    "nodes = pd.read_csv(os.path.join(DATA_FOLDER, 'nodes.csv'))\n",
    "generators = pd.read_csv(os.path.join(DATA_FOLDER, 'generators.csv'))\n",
    "hourly_demand = pd.read_csv(os.path.join(DATA_FOLDER, 'hourly_demand.csv'))\n",
    "VOLL = 1000  # Example value for Value of Lost Load (set appropriately)\n"
   ]
  },
  {
   "cell_type": "code",
   "execution_count": 38,
   "metadata": {},
   "outputs": [
    {
     "name": "stdout",
     "output_type": "stream",
     "text": [
      "Gurobi Optimizer version 11.0.3 build v11.0.3rc0 (win64 - Windows 11.0 (22631.2))\n",
      "\n",
      "CPU model: AMD Ryzen 7 5800H with Radeon Graphics, instruction set [SSE2|AVX|AVX2]\n",
      "Thread count: 8 physical cores, 16 logical processors, using up to 16 threads\n",
      "\n",
      "Optimize a model with 3073 rows, 2016 columns and 5376 nonzeros\n",
      "Model fingerprint: 0xf2981b89\n",
      "Coefficient statistics:\n",
      "  Matrix range     [7e-01, 1e+00]\n",
      "  Objective range  [5e+00, 1e+03]\n",
      "  Bounds range     [0e+00, 0e+00]\n",
      "  RHS range        [3e-01, 1e+03]\n",
      "Presolve removed 2592 rows and 506 columns\n",
      "Presolve time: 0.01s\n",
      "\n",
      "Solved in 0 iterations and 0.01 seconds (0.00 work units)\n",
      "Infeasible model\n"
     ]
    }
   ],
   "source": [
    "# Initialize model\n",
    "model = gp.Model(\"power_flow_optimization\")\n",
    "\n",
    "# Sets\n",
    "N = nodes['node_id'].tolist()  # Set of nodes\n",
    "G = generators['generator_id'].tolist()  # Set of generators\n",
    "B = branches['branch_id'].tolist()  # Set of branches\n",
    "T = hourly_demand['hour'].unique().tolist()  # Set of time periods\n",
    "\n",
    "# Parameters\n",
    "P_min = {row['generator_id']: row['pmin'] for _, row in generators.iterrows()}  # Minimum generation\n",
    "P_max = {row['generator_id']: row['pmax'] for _, row in generators.iterrows()}  # Maximum generation\n",
    "MC = {row['generator_id']: row['MC'] for _, row in generators.iterrows()}  # Marginal cost\n",
    "CO2 = {row['generator_id']: row['CO2'] for _, row in generators.iterrows()}  # CO2 cost\n",
    "D = {(row['node_id'], row['hour']): row['demand'] for _, row in hourly_demand.iterrows()}  # Demand at node n, time t\n",
    "E = {row['generator_id']: row['CO2'] for _, row in generators.iterrows()}  # Emissions factor\n",
    "E_limit = 1000  # Example CO2 emissions limit\n",
    "P_b_max = {row['branch_id']: row['capacity'] for _, row in branches.iterrows()}  # Branch power flow limits\n",
    "loss_factor = {row['branch_id']: row['loss_factor'] for _, row in branches.iterrows()}  # Loss factor for each branch\n",
    "\n",
    "# Decision Variables\n",
    "g = model.addVars(G, T, lb=0, ub=GRB.INFINITY, name=\"generation\")  # Generation dispatch\n",
    "f = model.addVars(B, T, lb=-GRB.INFINITY, ub=GRB.INFINITY, name=\"flow\")  # Power flow\n",
    "s = model.addVars(N, T, lb=0, name=\"shedding\")  # Load shedding\n",
    "c = model.addVars(N, T, lb=0, name=\"curtailment\")  # Power curtailment\n",
    "\n",
    "# Objective: Minimize total generation cost (MC + CO2 cost + shed cost)\n",
    "obj = gp.quicksum((MC[i] + CO2[i]) * g[i, t] for i in G for t in T) + gp.quicksum(VOLL * s[n, t] for n in N for t in T)\n",
    "model.setObjective(obj, GRB.MINIMIZE)\n",
    "\n",
    "# Constraint 1: Power balance at each node and time\n",
    "for n in N:\n",
    "    for t in T:\n",
    "        inflow = gp.quicksum(f[b, t] * (1 - loss_factor[b]) for b in branches[branches['node_to'] == n]['branch_id'])\n",
    "        outflow = gp.quicksum(f[b, t] for b in branches[branches['node_from'] == n]['branch_id'])\n",
    "        generation = gp.quicksum(g[i, t] - c[i, t] for i in generators[generators['node_id'] == n]['generator_id'])\n",
    "        demand = D[n, t]\n",
    "        model.addConstr(generation + inflow - outflow + s[n, t] == demand, f\"power_balance_{n}_{t}\")\n",
    "\n",
    "# Constraint 2: Load shedding can't exceed demand\n",
    "for n in N:\n",
    "    for t in T:\n",
    "        model.addConstr(s[n, t] <= D[n, t], f\"shedding_limit_{n}_{t}\")\n",
    "\n",
    "# Constraint 3: Generator output limits\n",
    "for i in G:\n",
    "    for t in T:\n",
    "        model.addConstr(g[i, t] >= P_min[i], f\"gen_min_{i}_{t}\")\n",
    "        model.addConstr(g[i, t] <= P_max[i], f\"gen_max_{i}_{t}\")\n",
    "\n",
    "# Constraint 4: Branch power flow limits\n",
    "for b in B:\n",
    "    for t in T:\n",
    "        model.addConstr(f[b, t] <= P_b_max[b], f\"branch_max_{b}_{t}\")\n",
    "        model.addConstr(f[b, t] >= -P_b_max[b], f\"branch_min_{b}_{t}\")\n",
    "\n",
    "# Constraint 5: CO2 emissions limit\n",
    "model.addConstr(gp.quicksum(E[i] * g[i, t] for i in G for t in T) <= E_limit, \"emissions_limit\")\n",
    "\n",
    "# Optimize the model\n",
    "model.optimize()\n",
    "\n",
    "# Extract the results\n",
    "if model.status == GRB.OPTIMAL:\n",
    "    generation = model.getAttr('x', g)\n",
    "    flow = model.getAttr('x', f)\n",
    "    shedding = model.getAttr('x', s)\n",
    "    curtailment = model.getAttr('x', c)\n",
    "    \n",
    "    # Display results as needed\n"
   ]
  },
  {
   "cell_type": "code",
   "execution_count": 36,
   "metadata": {},
   "outputs": [
    {
     "data": {
      "text/plain": [
       "{'Solar in A2': 5.192127132363674,\n",
       " 'Oil in A2': 73.22701068302649,\n",
       " 'Oil in A1': 54.49024601551049,\n",
       " 'Coal in A2': 23.418191702720904,\n",
       " 'Solar in A1': 7.331553864281531}"
      ]
     },
     "execution_count": 36,
     "metadata": {},
     "output_type": "execute_result"
    }
   ],
   "source": [
    "MC"
   ]
  },
  {
   "cell_type": "code",
   "execution_count": null,
   "metadata": {},
   "outputs": [],
   "source": []
  }
 ],
 "metadata": {
  "kernelspec": {
   "display_name": "project",
   "language": "python",
   "name": "python3"
  },
  "language_info": {
   "codemirror_mode": {
    "name": "ipython",
    "version": 3
   },
   "file_extension": ".py",
   "mimetype": "text/x-python",
   "name": "python",
   "nbconvert_exporter": "python",
   "pygments_lexer": "ipython3",
   "version": "3.12.6"
  }
 },
 "nbformat": 4,
 "nbformat_minor": 2
}
