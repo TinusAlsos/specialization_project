{
 "cells": [
  {
   "cell_type": "markdown",
   "metadata": {},
   "source": [
    "# Market Clearing Price Model"
   ]
  },
  {
   "cell_type": "code",
   "execution_count": 3,
   "metadata": {},
   "outputs": [],
   "source": [
    "\n",
    "# Imports\n",
    "using CSV, DataFrames, JuMP, Gurobi, Plots, Formatting, LinearAlgebra, Random"
   ]
  },
  {
   "cell_type": "code",
   "execution_count": 12,
   "metadata": {},
   "outputs": [],
   "source": [
    "# Define a mutable struct to represent a node with the required properties\n",
    "mutable struct Node\n",
    "    area::String  # The area is now a string, which will be randomly selected from \"A1\", \"A2\", \"A3\"\n",
    "    x_coordinate::Float64\n",
    "    y_coordinate::Float64\n",
    "    exists::Bool\n",
    "    comment::Union{String, Nothing}\n",
    "end"
   ]
  },
  {
   "cell_type": "code",
   "execution_count": 13,
   "metadata": {},
   "outputs": [
    {
     "data": {
      "text/plain": [
       "generate_nodes (generic function with 1 method)"
      ]
     },
     "metadata": {},
     "output_type": "display_data"
    }
   ],
   "source": [
    "# Function to generate random nodes\n",
    "function generate_nodes(N::Int)\n",
    "    areas = [\"A1\", \"A2\", \"A3\"]  # Define the potential areas\n",
    "    \n",
    "    nodes = Vector{Node}(undef, N)  # Create an array to hold Node structs\n",
    "    \n",
    "    for i in 1:N\n",
    "        # Randomly select an area\n",
    "        area = rand(areas)\n",
    "        # Randomly generate values for the other node attributes\n",
    "        x_coordinate = rand(0.0:0.01:10.0)  # Random x-coordinate between 0 and 10\n",
    "        y_coordinate = rand(0.0:0.01:10.0)  # Random y-coordinate between 0 and 10\n",
    "        exists = rand(Bool)  # Randomly decide if the node exists\n",
    "        comment = rand(Bool) ? \"Active node\" : nothing  # Optionally assign a comment\n",
    "        \n",
    "        # Create a new node with the generated attributes\n",
    "        nodes[i] = Node(area, x_coordinate, y_coordinate, exists, comment)\n",
    "    end\n",
    "    return nodes\n",
    "end"
   ]
  },
  {
   "cell_type": "code",
   "execution_count": 19,
   "metadata": {},
   "outputs": [
    {
     "data": {
      "text/plain": [
       "nodes_to_dataframe (generic function with 1 method)"
      ]
     },
     "metadata": {},
     "output_type": "display_data"
    }
   ],
   "source": [
    "\n",
    "# Function to display the nodes in a DataFrame for easy viewing\n",
    "function nodes_to_dataframe(nodes::Vector{Node})\n",
    "    df = DataFrame(\n",
    "        area = [node.area for node in nodes],\n",
    "        x_coordinate = [node.x_coordinate for node in nodes],\n",
    "        y_coordinate = [node.y_coordinate for node in nodes],\n",
    "        exists = [node.exists for node in nodes],\n",
    "        comment = [node.comment for node in nodes]\n",
    "    )\n",
    "    return df\n",
    "end\n"
   ]
  },
  {
   "cell_type": "code",
   "execution_count": null,
   "metadata": {},
   "outputs": [],
   "source": [
    "# Function to calculate the distance matrix between nodes\n",
    "function calculate_distance_matrix(nodes::Vector{Node})\n",
    "    N = length(nodes)\n",
    "    distance_matrix = zeros(Float64, N, N)  # Initialize an N x N matrix of zeros\n",
    "    \n",
    "    for i in 1:N\n",
    "        for j in 1:N\n",
    "            if i != j  # Avoid self-distances\n",
    "                # Calculate Euclidean distance between node i and node j\n",
    "                xi, yi = nodes[i].x_coordinate, nodes[i].y_coordinate\n",
    "                xj, yj = nodes[j].x_coordinate, nodes[j].y_coordinate\n",
    "                distance_matrix[i, j] = sqrt((xj - xi)^2 + (yj - yi)^2)\n",
    "            else\n",
    "                distance_matrix[i, j] = 0.0  # Distance to itself is zero\n",
    "            end\n",
    "        end\n",
    "    end\n",
    "    return distance_matrix\n",
    "end"
   ]
  },
  {
   "cell_type": "code",
   "execution_count": 15,
   "metadata": {},
   "outputs": [
    {
     "name": "stdout",
     "output_type": "stream",
     "text": [
      "\u001b[1m10×5 DataFrame\u001b[0m\n",
      "\u001b[1m Row \u001b[0m│\u001b[1m area   \u001b[0m\u001b[1m x_coordinate \u001b[0m\u001b[1m y_coordinate \u001b[0m\u001b[1m exists \u001b[0m\u001b[1m comment     \u001b[0m\n",
      "     │\u001b[90m String \u001b[0m\u001b[90m Float64      \u001b[0m\u001b[90m Float64      \u001b[0m\u001b[90m Bool   \u001b[0m\u001b[90m Union…      \u001b[0m\n",
      "─────┼─────────────────────────────────────────────────────────\n",
      "   1 │ A3              2.01          5.76    true  Active node\n",
      "   2 │ A3              3.77          8.23    true \u001b[90m             \u001b[0m\n",
      "   3 │ A3              9.84          1.94    true  Active node\n",
      "   4 │ A1              9.99          6.86   false \u001b[90m             \u001b[0m\n",
      "   5 │ A1              6.74          7.87    true  Active node\n",
      "   6 │ A2              9.78          7.63    true  Active node\n",
      "   7 │ A2              6.47          4.26    true  Active node\n",
      "   8 │ A2              3.71          7.05   false  Active node\n",
      "   9 │ A1              2.86          9.35    true  Active node\n",
      "  10 │ A3              9.28          2.88    true \u001b[90m             \u001b[0m\n"
     ]
    }
   ],
   "source": [
    "# Example usage\n",
    "N = 10  # Number of nodes\n",
    "nodes = generate_nodes(N)\n",
    "df = display_nodes(nodes)\n",
    "\n",
    "# Show the DataFrame\n",
    "println(df)"
   ]
  },
  {
   "cell_type": "code",
   "execution_count": 18,
   "metadata": {},
   "outputs": [
    {
     "name": "stdout",
     "output_type": "stream",
     "text": [
      "[\"A3\", \"A3\", \"A3\", \"A1\", \"A1\", \"A2\", \"A2\", \"A2\", \"A1\", \"A3\"]\n"
     ]
    }
   ],
   "source": [
    "println(df[!, \"area\"])\n",
    "println"
   ]
  },
  {
   "cell_type": "code",
   "execution_count": 11,
   "metadata": {},
   "outputs": [
    {
     "name": "stdout",
     "output_type": "stream",
     "text": [
      "Generated coordinates for 10 nodes:\n",
      "[5.84, 1.03, 6.37, 9.18, 2.65, 3.95, 0.71, 0.48, 2.87, 9.75]\n",
      "[5.84 2.69; 1.03 4.08; 6.37 1.55; 9.18 0.87; 2.65 9.81; 3.95 5.4; 0.71 3.45; 0.48 1.4; 2.87 7.37; 9.75 8.24]\n",
      "Matrix{Float64}\n"
     ]
    }
   ],
   "source": [
    "\n",
    "# Define the number of nodes (N)\n",
    "N = 10  # You can change this to any number\n",
    "\n",
    "# Generate random Cartesian coordinates between 0 and 10 for N nodes\n",
    "coordinates = rand(0:0.01:10, N, 2)\n",
    "\n",
    "# Display the generated coordinates\n",
    "println(\"Generated coordinates for $N nodes:\")\n",
    "println(coordinates[:,1])\n",
    "println(coordinates)\n",
    "println(typeof(coordinates))\n"
   ]
  },
  {
   "cell_type": "code",
   "execution_count": null,
   "metadata": {},
   "outputs": [],
   "source": []
  }
 ],
 "metadata": {
  "kernelspec": {
   "display_name": "Julia 1.9.3",
   "language": "julia",
   "name": "julia-1.9"
  },
  "language_info": {
   "file_extension": ".jl",
   "mimetype": "application/julia",
   "name": "julia",
   "version": "1.9.3"
  }
 },
 "nbformat": 4,
 "nbformat_minor": 2
}
